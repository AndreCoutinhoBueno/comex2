{
 "cells": [
  {
   "cell_type": "markdown",
   "id": "1ff2593c",
   "metadata": {},
   "source": [
    "## 1- Licensas e pacotes utilizados\n",
    "\n",
    "A liguagem utilizada é o [Python](https://www.python.org/) e algumas de suas bibliotecas, que são de uso livre e sem qualquer restrição.\n",
    "\n",
    "As bibliotecas utilizadas são:\n",
    "* [NumPy](https://numpy.org/doc/stable/index.html#): Provides a fast numerical array structure and helper functions.\n",
    "* [pandas](https://pandas.pydata.org/): Provides a DataFrame structure to store data in memory and work with it easily and efficiently.\n",
    "* [scikit-learn](https://scikit-learn.org/stable/#): The essential Machine Learning package in Python.\n",
    "* [matplotlib](https://matplotlib.org/): Basic plotting library in Python; most other Python plotting libraries are built on top of it.\n",
    "* [Seaborn](https://seaborn.pydata.org/): Advanced statistical plotting library.  \n",
    "\n",
    "\n",
    "Os detalhes das versões utilizadas , bem como das características técnicas da máquina utilizada são apresentadas a seguir:"
   ]
  },
  {
   "cell_type": "code",
   "execution_count": 2,
   "id": "da8c1b4a",
   "metadata": {},
   "outputs": [
    {
     "name": "stdout",
     "output_type": "stream",
     "text": [
      "The watermark extension is already loaded. To reload it, use:\n",
      "  %reload_ext watermark\n",
      "Python implementation: CPython\n",
      "Python version       : 3.10.9\n",
      "IPython version      : 8.10.0\n",
      "\n",
      "numpy       : 1.23.5\n",
      "pandas      : 1.5.3\n",
      "scikit-learn: 1.2.1\n",
      "\n",
      "Compiler    : GCC 11.2.0\n",
      "OS          : Linux\n",
      "Release     : 5.15.130-20472-g682e24dd583b\n",
      "Machine     : x86_64\n",
      "Processor   : \n",
      "CPU cores   : 4\n",
      "Architecture: 64bit\n",
      "\n"
     ]
    }
   ],
   "source": [
    "%load_ext watermark\n",
    "\n",
    "%watermark --machine --python --packages numpy,pandas,scikit-learn"
   ]
  },
  {
   "cell_type": "code",
   "execution_count": null,
   "id": "3684c0d2",
   "metadata": {},
   "outputs": [],
   "source": []
  }
 ],
 "metadata": {
  "celltoolbar": "Raw Cell Format",
  "kernelspec": {
   "display_name": "Python 3 (ipykernel)",
   "language": "python",
   "name": "python3"
  },
  "language_info": {
   "codemirror_mode": {
    "name": "ipython",
    "version": 3
   },
   "file_extension": ".py",
   "mimetype": "text/x-python",
   "name": "python",
   "nbconvert_exporter": "python",
   "pygments_lexer": "ipython3",
   "version": "3.10.9"
  }
 },
 "nbformat": 4,
 "nbformat_minor": 5
}
