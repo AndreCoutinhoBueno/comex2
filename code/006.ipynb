{
 "cells": [
  {
   "cell_type": "markdown",
   "id": "e00c05d8",
   "metadata": {},
   "source": [
    "## 2- Preparo dos Dados"
   ]
  },
  {
   "cell_type": "markdown",
   "id": "732bad89",
   "metadata": {},
   "source": [
    "#### Validando características"
   ]
  },
  {
   "cell_type": "markdown",
   "id": "caa9ba43",
   "metadata": {},
   "source": [
    "#### Descrição\n",
    "Base de dados detalhada por NCM: Arquivos CSV com separador ponto e vírgula (;) detalhado por ano, mês, código NCM, código da unidade estatística, código de país de origem do produto, código da UF de destino do produto, código da via de transporte, código da URF de embarque/desembarque, quantidade estatística, quilograma líquido, valor dólar FOB (US$).\""
   ]
  },
  {
   "cell_type": "markdown",
   "id": "458bff2c",
   "metadata": {},
   "source": [
    "#### Tabela Principal ou simplesmente 'a tabela'"
   ]
  },
  {
   "cell_type": "code",
   "execution_count": 65,
   "id": "6c7fb2ae",
   "metadata": {},
   "outputs": [],
   "source": [
    "# Importando as bibliotecas necessárias\n",
    "import pandas as pd\n",
    "import numpy as np\n",
    "import seaborn as sns\n",
    "#import matplotlib.pyplot as plt\n",
    "\n",
    "i=pd.read_csv('~/comex/data/imp1.csv')\n",
    "i.info()"
   ]
  },
  {
   "cell_type": "markdown",
   "id": "6a2a00f5",
   "metadata": {},
   "source": [
    "A tabela não apresenta valores nulos."
   ]
  },
  {
   "cell_type": "code",
   "execution_count": 67,
   "id": "bf59af69",
   "metadata": {
    "scrolled": false
   },
   "outputs": [
    {
     "name": "stdout",
     "output_type": "stream",
     "text": [
      "\n",
      "Os nomes das colunas foram simplificados para:\n",
      "\n",
      "['ANO', 'MES', 'NCM', 'UNID', 'PAIS', 'UF', 'VIA', 'URF', 'QT', 'KG', 'FOB', 'FRETE', 'SEGURO']\n",
      "\n",
      "\n"
     ]
    }
   ],
   "source": [
    "new_names=['ANO', 'MES', 'NCM', 'UNID', 'PAIS', 'UF', 'VIA','URF', 'QT', 'KG', 'FOB', 'FRETE', 'SEGURO']\n",
    "\n",
    "i.columns=new_names\n",
    "\n",
    "print(f\"\\nOs nomes das colunas foram simplificados para:\\n\\n{new_names}\\n\\n\")"
   ]
  },
  {
   "cell_type": "markdown",
   "id": "f45e3895",
   "metadata": {},
   "source": [
    "> Pela descrição, as 8 primeiras colunas são referentes a características que uma importação pode ter."
   ]
  },
  {
   "cell_type": "code",
   "execution_count": 68,
   "id": "cc6c53d1",
   "metadata": {},
   "outputs": [],
   "source": [
    "i[i.columns[:8]]=i[i.columns[:8]].astype('category')"
   ]
  },
  {
   "cell_type": "code",
   "execution_count": 69,
   "id": "f3d74cdc",
   "metadata": {},
   "outputs": [
    {
     "name": "stdout",
     "output_type": "stream",
     "text": [
      "\n",
      "É False a existência de combinações de categorias em duplicidade.\n"
     ]
    }
   ],
   "source": [
    "print(f\"\\nÉ {i.select_dtypes(include='category').duplicated().any()} a existência de combinações de categorias em duplicidade.\")\n"
   ]
  },
  {
   "cell_type": "markdown",
   "id": "ebc7b857",
   "metadata": {},
   "source": [
    "#### Colunas de tempo: ANO e MÊS"
   ]
  },
  {
   "cell_type": "code",
   "execution_count": 70,
   "id": "99a5f885",
   "metadata": {},
   "outputs": [
    {
     "name": "stdout",
     "output_type": "stream",
     "text": [
      "\n",
      "A tabela esta ordenada por data.\n"
     ]
    }
   ],
   "source": [
    "a=(i==i.sort_values(by=['ANO','MES'])).all().all()\n",
    "if a==True:\n",
    "    print('\\nA tabela esta ordenada por data.')\n",
    "else: \n",
    "    print('\\nA tabela esta não esta ordenada por data desde de a origem e\\\n",
    "    todos os relatórios a seguir estão sobre suspeita de erro.\\n')"
   ]
  },
  {
   "cell_type": "code",
   "execution_count": 71,
   "id": "1d4ce128",
   "metadata": {},
   "outputs": [
    {
     "name": "stdout",
     "output_type": "stream",
     "text": [
      "\n",
      " primeira data é o mês 1 de 1997.\n",
      "\n"
     ]
    }
   ],
   "source": [
    "print(f\"\\n primeira data é o mês {i.iloc[0,0:2][1]} de {i.iloc[0,0:2][0]}.\\n\")"
   ]
  },
  {
   "cell_type": "code",
   "execution_count": 72,
   "id": "0395fcfd",
   "metadata": {},
   "outputs": [
    {
     "name": "stdout",
     "output_type": "stream",
     "text": [
      "\n",
      "A última data é o mês 10 de 2023.\n",
      "\n"
     ]
    }
   ],
   "source": [
    "print(f\"\\nA última data é o mês {i.iloc[-1,0:2][1]} de {i.iloc[-1,0:2][0]}.\\n\")"
   ]
  },
  {
   "cell_type": "code",
   "execution_count": 73,
   "id": "0594161d",
   "metadata": {},
   "outputs": [
    {
     "name": "stdout",
     "output_type": "stream",
     "text": [
      "\n",
      "Com exceção do último ano, que esta correndo, todos os anos apresentam 12 meses.\n",
      "\n"
     ]
    }
   ],
   "source": [
    "if i.MES.iloc[-1]!=12:\n",
    "    if (i[['ANO','MES']].drop_duplicates().groupby(by='ANO').MES.count()[:-1]!=12).sum()==0:\n",
    "        print(\"\\nCom exceção do último ano, que esta correndo, todos os anos apresentam 12 meses.\\n\")\n",
    "    else:\n",
    "        print(\"\\nHá anos incompletos de meses nos anos anteriores ao corrente.\\n\")\n",
    "else:\n",
    "    if (i[['ANO','MES']].drop_duplicates().groupby(by='ANO').MES.count()[:-1]!=12).sum()==0:\n",
    "        print(\"\\nTodos os anos apresentam 12 meses.\\n\")\n",
    "    else:\n",
    "        print(\"\\nHá anos incompletos de meses.\\n\")"
   ]
  },
  {
   "cell_type": "markdown",
   "id": "fc5cf12d",
   "metadata": {},
   "source": [
    ">  As colunas de características serão abordadas uma a uma, porém, a ordem de abordagem será em função da lógica de filtragem dos dados."
   ]
  },
  {
   "cell_type": "markdown",
   "id": "8645fee9",
   "metadata": {},
   "source": [
    "#### URF\n",
    "\n",
    "Esse bloco de notas mantém o foco em empresas que tenham interesse em importações específicamente pelos portos próximos a capital, Salvador, na Bahia.\n",
    "\n",
    "Segundo a [CODEBA](https://www.codeba.gov.br/eficiente/sites/portalcodeba/pt-br/home.php), os portos dessa região são o de ARATU-CANDEIAS e o porto de SALVADOR.\n",
    "\n",
    "Os códigos que representam as unidades dada Receita Federal (URF) que atendem estes portos são:"
   ]
  },
  {
   "cell_type": "code",
   "execution_count": 74,
   "id": "66d0876b",
   "metadata": {},
   "outputs": [
    {
     "data": {
      "text/plain": [
       "[517602, 517600, 517700, 510100, 517800, 517801]"
      ]
     },
     "execution_count": 74,
     "metadata": {},
     "output_type": "execute_result"
    }
   ],
   "source": [
    "urf=pd.read_csv('~/comex/metadata/URF.csv', sep=';', encoding='Latin-1')\n",
    "portos=['ARATU', 'CANDEIAS', 'SALVADOR']\n",
    "\n",
    "q=pd.DataFrame()\n",
    "for n in portos:\n",
    "    urf_t= urf[urf.NO_URF.str.contains(n)]\n",
    "    q=pd.concat([q,urf_t])\n",
    "urf_f1=q.CO_URF.tolist()\n",
    "urf_f1"
   ]
  },
  {
   "cell_type": "raw",
   "id": "512ccc4c",
   "metadata": {},
   "source": [
    "A tabela será filtrada para manter somente ocorrências dessas URFs."
   ]
  },
  {
   "cell_type": "code",
   "execution_count": 75,
   "id": "f56d0580",
   "metadata": {},
   "outputs": [],
   "source": [
    "i=i[i.URF.isin(urf_f1)]"
   ]
  },
  {
   "cell_type": "markdown",
   "id": "abcb80cf",
   "metadata": {},
   "source": [
    "Porém, duas das URFs listadas movimentaram cargas milhares de vezes menor do que as demais URFs. \n",
    "Sendo assim, essas cargas e URFs serão descartadas."
   ]
  },
  {
   "cell_type": "code",
   "execution_count": 76,
   "id": "9cb7405c",
   "metadata": {},
   "outputs": [],
   "source": [
    "list_urf_del=i.groupby(by='URF').KG.mean().sort_values().reset_index().head(2).URF.tolist()\n",
    "i=i[~i.URF.isin(list_urf_del)]"
   ]
  },
  {
   "cell_type": "markdown",
   "id": "02125ad0",
   "metadata": {},
   "source": [
    "#### UNID e QT\n",
    "\n",
    "Essas duas colunas representam **unidade de medida** e **peso** utilizadas no país de origem, que pode ser  diferente da unidade de peso (KG), que é a principal. Essa essas unidades de origem não são do interesse desse estudo e , por isso, serão eliminadas."
   ]
  },
  {
   "cell_type": "code",
   "execution_count": 77,
   "id": "d8a1e9a5",
   "metadata": {
    "scrolled": false
   },
   "outputs": [],
   "source": [
    "i=i.drop(columns=['QT','UNID'])"
   ]
  },
  {
   "cell_type": "markdown",
   "id": "aa3050ad",
   "metadata": {},
   "source": [
    "#### UF"
   ]
  },
  {
   "cell_type": "markdown",
   "id": "593bbfdd",
   "metadata": {},
   "source": [
    "> [Unidades Federativas do Brasil](https://pt.wikipedia.org/wiki/Unidades_federativas_do_Brasil)"
   ]
  },
  {
   "cell_type": "code",
   "execution_count": 78,
   "id": "d1e9f26a",
   "metadata": {},
   "outputs": [
    {
     "name": "stdout",
     "output_type": "stream",
     "text": [
      "\n",
      "Depois das filtragens das unidades da receita federal, ainda se constata que 18 UF ainda se mantém na tabela.\n",
      "Porém, a seguir, constatamos que o estado da  Bahia consome praticamente todo o volume importado, sendo o envio para outros estado insignificantes. Por isso, as importações das demais UFs serão descartadas, assim como será \n",
      "descartada a própria coluna UF.\n",
      "\n"
     ]
    }
   ],
   "source": [
    "print(f\"\\nDepois das filtragens das unidades da receita federal, ainda se constata que {len(i.UF.unique())} UF ainda se mantém na tabela.\\nPorém, a seguir, constatamos que o estado da  Bahia consome praticamente todo o volume importado, sendo o envio para outros estado insignificantes. Por isso, as importações das demais UFs serão descartadas, assim como será \\ndescartada a própria coluna UF.\\n\")"
   ]
  },
  {
   "cell_type": "code",
   "execution_count": 79,
   "id": "9f49063a",
   "metadata": {},
   "outputs": [
    {
     "name": "stdout",
     "output_type": "stream",
     "text": [
      "UF\n",
      "BA    21688912912\n",
      "SE      391165441\n",
      "AL      153240775\n",
      "GO      113141516\n",
      "TO       55558994\n",
      "Name: KG, dtype: int64\n"
     ]
    }
   ],
   "source": [
    "print(i.groupby(by='UF').KG.sum().sort_values(ascending=False).head())\n",
    "i=i[i.UF=='BA']\n",
    "i=i.drop(columns='UF')"
   ]
  },
  {
   "cell_type": "markdown",
   "id": "9c882967",
   "metadata": {},
   "source": [
    "#### Coluna Via\n",
    "\n",
    "A coluna 'VIA' representa o meio de transporte utilizado, que pode ser marítimo, terrestre, e outros.\n",
    "\n",
    "O intersse desse bloco de notas é smente em produtos via os portos citados e, portanto, a via maritma será mantida e as outras descartadas, bem como será descartada a coluna VIA, por ficar sem função."
   ]
  },
  {
   "cell_type": "code",
   "execution_count": 80,
   "id": "b7b62aad",
   "metadata": {},
   "outputs": [],
   "source": [
    "i=i[i.VIA==1]\n",
    "i=i.drop(columns='VIA')"
   ]
  },
  {
   "cell_type": "markdown",
   "id": "6f1dd0fe",
   "metadata": {},
   "source": [
    "#### PAÍS"
   ]
  },
  {
   "cell_type": "code",
   "execution_count": 81,
   "id": "82a3f062",
   "metadata": {},
   "outputs": [
    {
     "name": "stdout",
     "output_type": "stream",
     "text": [
      "\n",
      "\n",
      "\n",
      "\n",
      "58 países estão presentes como exportadores.\n",
      "\n",
      "\n",
      "\n"
     ]
    }
   ],
   "source": [
    "print(f\"\\n\\n\\n\\n{len(i.PAIS.unique())} países estão presentes como exportadores.\\n\\n\\n\")"
   ]
  },
  {
   "cell_type": "markdown",
   "id": "9b32bb3d",
   "metadata": {},
   "source": [
    "#### NCM\n",
    "\n",
    "A coluna e o termo NCM é referente a [Nomenclatura Comum do Mercosul](www.google.com) e, no caso de fertilizante, define a composição química e, a princípio, será utilizada para identificar um único produto."
   ]
  },
  {
   "cell_type": "code",
   "execution_count": 82,
   "id": "bfc5ae3f",
   "metadata": {},
   "outputs": [
    {
     "name": "stdout",
     "output_type": "stream",
     "text": [
      "\n",
      "A tabela apresenta 29 códigos NCM, que a princípio consideramos produtos únicos. \n",
      "\n",
      "Porém, a 'Contratante' busca valorizar o uso de sua capacidade de movimentação de produto, \n",
      "e por isso deseja focar esforço sobre os 6 produtos (NCM) que mais movimentaram valor CIF no ano 2022.\n",
      "\n"
     ]
    }
   ],
   "source": [
    "print(f\"\\nA tabela apresenta {len(i.NCM.unique())} códigos NCM, que a princípio consideramos produtos únicos. \\\n",
    "\\n\\nPorém, a 'Contratante' busca valorizar o uso de sua capacidade de movimentação de produto, \\n\\\n",
    "e por isso deseja focar esforço sobre os 6 produtos (NCM) que mais movimentaram valor CIF no ano {i.ANO.iloc[-1]-1}.\\n\")"
   ]
  },
  {
   "cell_type": "code",
   "execution_count": 83,
   "id": "5e8d0388",
   "metadata": {},
   "outputs": [],
   "source": [
    "i=i.assign(CIF=(i.FOB+i.FRETE+i.SEGURO))"
   ]
  },
  {
   "cell_type": "code",
   "execution_count": 84,
   "id": "5ee1d397",
   "metadata": {},
   "outputs": [],
   "source": [
    "ai=i.ANO.drop_duplicates().iloc[-7]"
   ]
  },
  {
   "cell_type": "code",
   "execution_count": 85,
   "id": "d1938ad3",
   "metadata": {},
   "outputs": [],
   "source": [
    "af=i.ANO.drop_duplicates().iloc[-2]"
   ]
  },
  {
   "cell_type": "code",
   "execution_count": 86,
   "id": "cb362d7e",
   "metadata": {},
   "outputs": [],
   "source": [
    "anos_considerados=np.arange(ai,af)"
   ]
  },
  {
   "cell_type": "code",
   "execution_count": 87,
   "id": "4709ba40",
   "metadata": {},
   "outputs": [
    {
     "data": {
      "text/plain": [
       "[31042090, 31054000, 31021010, 31055900, 31022100, 31059090]"
      ]
     },
     "execution_count": 87,
     "metadata": {},
     "output_type": "execute_result"
    }
   ],
   "source": [
    "top_ncm=i[i.ANO.isin(anos_considerados)].groupby(by='NCM').CIF.sum().reset_index().sort_values(by='CIF', ascending=False).head(6).NCM.tolist()\n",
    "top_ncm"
   ]
  },
  {
   "cell_type": "code",
   "execution_count": 88,
   "id": "ab3381ea",
   "metadata": {},
   "outputs": [],
   "source": [
    "i=i[i.NCM.isin(top_ncm)].drop(columns='CIF')"
   ]
  },
  {
   "cell_type": "code",
   "execution_count": 89,
   "id": "2dfbdde8",
   "metadata": {},
   "outputs": [],
   "source": [
    "NCM_f1=i['NCM'].unique().tolist()"
   ]
  },
  {
   "cell_type": "code",
   "execution_count": 90,
   "id": "889c7d75",
   "metadata": {},
   "outputs": [],
   "source": [
    "i.NCM=i.NCM.cat.set_categories(NCM_f1)"
   ]
  },
  {
   "cell_type": "code",
   "execution_count": 91,
   "id": "907dffcc",
   "metadata": {
    "scrolled": true
   },
   "outputs": [
    {
     "data": {
      "text/html": [
       "<div>\n",
       "<style scoped>\n",
       "    .dataframe tbody tr th:only-of-type {\n",
       "        vertical-align: middle;\n",
       "    }\n",
       "\n",
       "    .dataframe tbody tr th {\n",
       "        vertical-align: top;\n",
       "    }\n",
       "\n",
       "    .dataframe thead th {\n",
       "        text-align: right;\n",
       "    }\n",
       "</style>\n",
       "<table border=\"1\" class=\"dataframe\">\n",
       "  <thead>\n",
       "    <tr style=\"text-align: right;\">\n",
       "      <th></th>\n",
       "      <th>NCM</th>\n",
       "      <th>NCM foco</th>\n",
       "    </tr>\n",
       "  </thead>\n",
       "  <tbody>\n",
       "    <tr>\n",
       "      <th>0</th>\n",
       "      <td>31042090</td>\n",
       "      <td>Outros cloretos de potássio</td>\n",
       "    </tr>\n",
       "    <tr>\n",
       "      <th>1</th>\n",
       "      <td>31054000</td>\n",
       "      <td>Diidrogeno-ortofosfato de amônio (fosfato mono...</td>\n",
       "    </tr>\n",
       "    <tr>\n",
       "      <th>2</th>\n",
       "      <td>31021010</td>\n",
       "      <td>Ureia, mesmo em solução aquosa, com teor de ni...</td>\n",
       "    </tr>\n",
       "    <tr>\n",
       "      <th>3</th>\n",
       "      <td>31022100</td>\n",
       "      <td>Sulfato de amônio</td>\n",
       "    </tr>\n",
       "    <tr>\n",
       "      <th>4</th>\n",
       "      <td>31055900</td>\n",
       "      <td>Outros adubos/fertilizantes minerais químicos,...</td>\n",
       "    </tr>\n",
       "    <tr>\n",
       "      <th>5</th>\n",
       "      <td>31059090</td>\n",
       "      <td>Outros adubos/fertilizantes minerais químicos ...</td>\n",
       "    </tr>\n",
       "  </tbody>\n",
       "</table>\n",
       "</div>"
      ],
      "text/plain": [
       "        NCM                                           NCM foco\n",
       "0  31042090                        Outros cloretos de potássio\n",
       "1  31054000  Diidrogeno-ortofosfato de amônio (fosfato mono...\n",
       "2  31021010  Ureia, mesmo em solução aquosa, com teor de ni...\n",
       "3  31022100                                  Sulfato de amônio\n",
       "4  31055900  Outros adubos/fertilizantes minerais químicos,...\n",
       "5  31059090  Outros adubos/fertilizantes minerais químicos ..."
      ]
     },
     "execution_count": 91,
     "metadata": {},
     "output_type": "execute_result"
    }
   ],
   "source": [
    "ncm=pd.read_csv('~/comex/metadata/NCM.csv',sep=';',encoding='Latin-1')\n",
    "i.groupby(by='NCM').KG.sum().reset_index().merge(ncm, right_on='CO_NCM', left_on='NCM').head(10).rename(columns={'NO_NCM_POR':'NCM foco'}).sort_values(by='KG',ascending=False)[['NCM','NCM foco']].reset_index(drop=True)"
   ]
  },
  {
   "cell_type": "code",
   "execution_count": 92,
   "id": "e603cf6b",
   "metadata": {},
   "outputs": [],
   "source": [
    "i.to_csv('~/comex/data/imp2.csv', index=False)"
   ]
  }
 ],
 "metadata": {
  "kernelspec": {
   "display_name": "Python 3 (ipykernel)",
   "language": "python",
   "name": "python3"
  },
  "language_info": {
   "codemirror_mode": {
    "name": "ipython",
    "version": 3
   },
   "file_extension": ".py",
   "mimetype": "text/x-python",
   "name": "python",
   "nbconvert_exporter": "python",
   "pygments_lexer": "ipython3",
   "version": "3.10.9"
  }
 },
 "nbformat": 4,
 "nbformat_minor": 5
}
