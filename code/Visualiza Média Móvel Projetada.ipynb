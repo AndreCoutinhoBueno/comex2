{
 "cells": [
  {
   "cell_type": "markdown",
   "id": "0eedc7b6",
   "metadata": {},
   "source": [
    "# Visualiza Média Móvel Projetada"
   ]
  },
  {
   "cell_type": "markdown",
   "id": "84f20227",
   "metadata": {},
   "source": [
    "Rodado pelo 015"
   ]
  },
  {
   "cell_type": "code",
   "execution_count": 1,
   "id": "5f8991f7",
   "metadata": {},
   "outputs": [],
   "source": [
    "##### Computação cietífica\n",
    "import numpy as np\n",
    "##### Manipulação e análise\n",
    "import pandas as pd\n",
    "##### Análise exploratória visual\n",
    "import matplotlib.pyplot as plt\n",
    "import seaborn as sns"
   ]
  },
  {
   "cell_type": "code",
   "execution_count": 2,
   "id": "8d3b190b",
   "metadata": {},
   "outputs": [],
   "source": [
    "# Lê arquivo com histórico de importação de fertilizantes já selecionado, limpo, validado, segementado e\n",
    "# agrupado no tempo\n",
    "i_o=pd.read_csv('~/comex/data/imp5.csv')"
   ]
  },
  {
   "cell_type": "code",
   "execution_count": 3,
   "id": "94aa3ad2",
   "metadata": {},
   "outputs": [
    {
     "data": {
      "text/html": [
       "<div>\n",
       "<style scoped>\n",
       "    .dataframe tbody tr th:only-of-type {\n",
       "        vertical-align: middle;\n",
       "    }\n",
       "\n",
       "    .dataframe tbody tr th {\n",
       "        vertical-align: top;\n",
       "    }\n",
       "\n",
       "    .dataframe thead th {\n",
       "        text-align: right;\n",
       "    }\n",
       "</style>\n",
       "<table border=\"1\" class=\"dataframe\">\n",
       "  <thead>\n",
       "    <tr style=\"text-align: right;\">\n",
       "      <th></th>\n",
       "      <th>MES</th>\n",
       "      <th>NCM</th>\n",
       "      <th>date</th>\n",
       "      <th>k1</th>\n",
       "      <th>k2</th>\n",
       "      <th>k3</th>\n",
       "      <th>k4</th>\n",
       "      <th>k5</th>\n",
       "      <th>k6</th>\n",
       "      <th>KG_pred</th>\n",
       "    </tr>\n",
       "  </thead>\n",
       "  <tbody>\n",
       "    <tr>\n",
       "      <th>0</th>\n",
       "      <td>11</td>\n",
       "      <td>31021010-0</td>\n",
       "      <td>1698796800000000000</td>\n",
       "      <td>114750000.0</td>\n",
       "      <td>34530000.0</td>\n",
       "      <td>37437366.0</td>\n",
       "      <td>14695000.0</td>\n",
       "      <td>1416000.0</td>\n",
       "      <td>9516500.0</td>\n",
       "      <td>3.689676e+07</td>\n",
       "    </tr>\n",
       "    <tr>\n",
       "      <th>1</th>\n",
       "      <td>11</td>\n",
       "      <td>31022100-0</td>\n",
       "      <td>1698796800000000000</td>\n",
       "      <td>114750000.0</td>\n",
       "      <td>34530000.0</td>\n",
       "      <td>37437366.0</td>\n",
       "      <td>14695000.0</td>\n",
       "      <td>1416000.0</td>\n",
       "      <td>9516500.0</td>\n",
       "      <td>2.533708e+07</td>\n",
       "    </tr>\n",
       "    <tr>\n",
       "      <th>2</th>\n",
       "      <td>11</td>\n",
       "      <td>31042090-0</td>\n",
       "      <td>1698796800000000000</td>\n",
       "      <td>114750000.0</td>\n",
       "      <td>34530000.0</td>\n",
       "      <td>37437366.0</td>\n",
       "      <td>14695000.0</td>\n",
       "      <td>1416000.0</td>\n",
       "      <td>9516500.0</td>\n",
       "      <td>7.071014e+07</td>\n",
       "    </tr>\n",
       "    <tr>\n",
       "      <th>3</th>\n",
       "      <td>11</td>\n",
       "      <td>31054000-0</td>\n",
       "      <td>1698796800000000000</td>\n",
       "      <td>114750000.0</td>\n",
       "      <td>34530000.0</td>\n",
       "      <td>37437366.0</td>\n",
       "      <td>14695000.0</td>\n",
       "      <td>1416000.0</td>\n",
       "      <td>9516500.0</td>\n",
       "      <td>3.576934e+07</td>\n",
       "    </tr>\n",
       "    <tr>\n",
       "      <th>4</th>\n",
       "      <td>11</td>\n",
       "      <td>31055900-1</td>\n",
       "      <td>1698796800000000000</td>\n",
       "      <td>114750000.0</td>\n",
       "      <td>34530000.0</td>\n",
       "      <td>37437366.0</td>\n",
       "      <td>14695000.0</td>\n",
       "      <td>1416000.0</td>\n",
       "      <td>9516500.0</td>\n",
       "      <td>2.216363e+07</td>\n",
       "    </tr>\n",
       "    <tr>\n",
       "      <th>5</th>\n",
       "      <td>11</td>\n",
       "      <td>31059090-1</td>\n",
       "      <td>1698796800000000000</td>\n",
       "      <td>114750000.0</td>\n",
       "      <td>34530000.0</td>\n",
       "      <td>37437366.0</td>\n",
       "      <td>14695000.0</td>\n",
       "      <td>1416000.0</td>\n",
       "      <td>9516500.0</td>\n",
       "      <td>8.656725e+06</td>\n",
       "    </tr>\n",
       "  </tbody>\n",
       "</table>\n",
       "</div>"
      ],
      "text/plain": [
       "   MES         NCM                 date           k1          k2          k3  \\\n",
       "0   11  31021010-0  1698796800000000000  114750000.0  34530000.0  37437366.0   \n",
       "1   11  31022100-0  1698796800000000000  114750000.0  34530000.0  37437366.0   \n",
       "2   11  31042090-0  1698796800000000000  114750000.0  34530000.0  37437366.0   \n",
       "3   11  31054000-0  1698796800000000000  114750000.0  34530000.0  37437366.0   \n",
       "4   11  31055900-1  1698796800000000000  114750000.0  34530000.0  37437366.0   \n",
       "5   11  31059090-1  1698796800000000000  114750000.0  34530000.0  37437366.0   \n",
       "\n",
       "           k4         k5         k6       KG_pred  \n",
       "0  14695000.0  1416000.0  9516500.0  3.689676e+07  \n",
       "1  14695000.0  1416000.0  9516500.0  2.533708e+07  \n",
       "2  14695000.0  1416000.0  9516500.0  7.071014e+07  \n",
       "3  14695000.0  1416000.0  9516500.0  3.576934e+07  \n",
       "4  14695000.0  1416000.0  9516500.0  2.216363e+07  \n",
       "5  14695000.0  1416000.0  9516500.0  8.656725e+06  "
      ]
     },
     "execution_count": 3,
     "metadata": {},
     "output_type": "execute_result"
    }
   ],
   "source": [
    "%store -r pred_regress\n",
    "pred_regress"
   ]
  },
  {
   "cell_type": "code",
   "execution_count": 4,
   "id": "31157ed1",
   "metadata": {},
   "outputs": [],
   "source": [
    "%store -r result_mes"
   ]
  },
  {
   "cell_type": "code",
   "execution_count": 5,
   "id": "ea7d8f31",
   "metadata": {},
   "outputs": [],
   "source": [
    "result_mes['KG']=result_mes.KT*10**6*result_mes.oc"
   ]
  },
  {
   "cell_type": "code",
   "execution_count": 6,
   "id": "8f220e63",
   "metadata": {},
   "outputs": [
    {
     "ename": "NameError",
     "evalue": "name 'd_pred' is not defined",
     "output_type": "error",
     "traceback": [
      "\u001b[0;31m---------------------------------------------------------------------------\u001b[0m",
      "\u001b[0;31mNameError\u001b[0m                                 Traceback (most recent call last)",
      "Cell \u001b[0;32mIn[6], line 1\u001b[0m\n\u001b[0;32m----> 1\u001b[0m result_mes[\u001b[38;5;124m'\u001b[39m\u001b[38;5;124mMES\u001b[39m\u001b[38;5;124m'\u001b[39m]\u001b[38;5;241m=\u001b[39m\u001b[43md_pred\u001b[49m\u001b[38;5;241m.\u001b[39miloc[\u001b[38;5;241m0\u001b[39m][\u001b[38;5;241m1\u001b[39m]\n",
      "\u001b[0;31mNameError\u001b[0m: name 'd_pred' is not defined"
     ]
    }
   ],
   "source": [
    "result_mes['MES']=d_pred.iloc[0][1]"
   ]
  },
  {
   "cell_type": "code",
   "execution_count": null,
   "id": "c69c48ec",
   "metadata": {},
   "outputs": [],
   "source": [
    "result_mes['ANO']=d_pred.iloc[0][0]"
   ]
  },
  {
   "cell_type": "code",
   "execution_count": null,
   "id": "812c8f97",
   "metadata": {},
   "outputs": [],
   "source": [
    "result_mes"
   ]
  },
  {
   "cell_type": "code",
   "execution_count": null,
   "id": "de71d360",
   "metadata": {},
   "outputs": [],
   "source": [
    "i_m=i_o[i_o.grupo_mes==1].drop(columns='grupo_mes').assign(tipo='real')\n",
    "i_m"
   ]
  },
  {
   "cell_type": "code",
   "execution_count": null,
   "id": "cf38c8d4",
   "metadata": {},
   "outputs": [],
   "source": [
    "result_mes=result_mes[['ANO','MES','NCM','KG']].assign(tipo='pred')\n",
    "result_mes"
   ]
  },
  {
   "cell_type": "code",
   "execution_count": null,
   "id": "0b0e595c",
   "metadata": {},
   "outputs": [],
   "source": [
    "imp_mes=pd.concat([i_m,result_mes])"
   ]
  },
  {
   "cell_type": "code",
   "execution_count": null,
   "id": "7fc9fef4",
   "metadata": {
    "scrolled": false
   },
   "outputs": [],
   "source": [
    "imp_mes['date']=pd.to_datetime(imp_mes.ANO.astype(str)+'/'+imp_mes.MES.astype(str))\n",
    "imp_mes=imp_mes.set_index('date')\n",
    "imp_mes=imp_mes[['ANO','MES','NCM','KG','tipo']]"
   ]
  },
  {
   "cell_type": "code",
   "execution_count": null,
   "id": "51a82927",
   "metadata": {},
   "outputs": [],
   "source": [
    "q=pd.DataFrame()\n",
    "for ncm in imp_mes.NCM.unique():\n",
    "    imp_mes_t=imp_mes[imp_mes.NCM==ncm]\n",
    "    imp_mes_t=imp_mes_t.assign(MMkg=imp_mes_t.KG.rolling('365D').mean())\n",
    "    q=pd.concat([q,imp_mes_t])\n",
    "imp_mes_mm=round(q)\n",
    "imp_mes_mm"
   ]
  },
  {
   "cell_type": "code",
   "execution_count": null,
   "id": "5c80304f",
   "metadata": {
    "scrolled": false
   },
   "outputs": [],
   "source": [
    "sns.relplot(data=imp_mes_mm, y='MMkg',x='date', hue='tipo', col='NCM', col_wrap=3, alpha=.5)\\\n",
    ".fig.suptitle(f\"Previsão da Média Móvel em kg para {d_pred.iloc[0][1]}/{d_pred.iloc[0][0]}\",y=1.1,fontsize=20)\n",
    "\n",
    "plt.show()"
   ]
  }
 ],
 "metadata": {
  "kernelspec": {
   "display_name": "Python 3 (ipykernel)",
   "language": "python",
   "name": "python3"
  },
  "language_info": {
   "codemirror_mode": {
    "name": "ipython",
    "version": 3
   },
   "file_extension": ".py",
   "mimetype": "text/x-python",
   "name": "python",
   "nbconvert_exporter": "python",
   "pygments_lexer": "ipython3",
   "version": "3.10.9"
  }
 },
 "nbformat": 4,
 "nbformat_minor": 5
}
