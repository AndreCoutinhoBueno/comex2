{
 "cells": [
  {
   "cell_type": "markdown",
   "id": "305ad793",
   "metadata": {},
   "source": [
    "# Previsão Quantitativa"
   ]
  },
  {
   "cell_type": "code",
   "execution_count": null,
   "id": "e5644df1",
   "metadata": {
    "scrolled": false
   },
   "outputs": [],
   "source": [
    "rfr.fit(X_regress_train_pred_dumm,y_regress_train_pred)\n",
    "\n",
    "pred_regress=X_regress_pred.assign(KG_pred=rfr.predict(X_regress_pred_dumm))"
   ]
  }
 ],
 "metadata": {
  "kernelspec": {
   "display_name": "Python 3 (ipykernel)",
   "language": "python",
   "name": "python3"
  },
  "language_info": {
   "codemirror_mode": {
    "name": "ipython",
    "version": 3
   },
   "file_extension": ".py",
   "mimetype": "text/x-python",
   "name": "python",
   "nbconvert_exporter": "python",
   "pygments_lexer": "ipython3",
   "version": "3.10.9"
  }
 },
 "nbformat": 4,
 "nbformat_minor": 5
}
