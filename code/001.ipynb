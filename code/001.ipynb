{
 "cells": [
  {
   "cell_type": "markdown",
   "id": "869ff48a",
   "metadata": {},
   "source": [
    "### Sobre o autor esse bloco de notas\n",
    "\n",
    "O interesse em análise de dados sobre o mercado de fertilizantes do Brasil esta presente na vida profissional do autor desde a década de 90.\n",
    "\n",
    "Banco de dados relacionais eram de uso na década dos anos 2000.\n",
    "\n",
    "A técnica clássica de decomposição temporal foi formalmente parte das tarefas do autor na década de 10\n",
    "\n",
    "Hoje a maior precisão na previsões se alcança com a aplicação de _machine learning_, que permite a um profissional fazer cálculos que somente uma equipe inteira seria capaz de fazer no mesmo tempo há alguns anos atrás.\n",
    "\n",
    "O autor escolheu o caminho das linguagens e bibliotecas de uso livre.\n",
    "\n",
    "A linguagem python, base desse bloco de notas, assim com outras linguagens de programação, tem como base a língua inglesa. Por essa razão o autor também utiliza termos e mesmo parágrafos em inglês, inseridos em seus comentários, sem nem mesmo o uso de aspas ou do formato itálico.\n",
    "\n",
    "Desejo uma boa leitura, agradeçendo críticas."
   ]
  }
 ],
 "metadata": {
  "celltoolbar": "Raw Cell Format",
  "kernelspec": {
   "display_name": "Python 3 (ipykernel)",
   "language": "python",
   "name": "python3"
  },
  "language_info": {
   "codemirror_mode": {
    "name": "ipython",
    "version": 3
   },
   "file_extension": ".py",
   "mimetype": "text/x-python",
   "name": "python",
   "nbconvert_exporter": "python",
   "pygments_lexer": "ipython3",
   "version": "3.10.9"
  }
 },
 "nbformat": 4,
 "nbformat_minor": 5
}
