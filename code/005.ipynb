{
 "cells": [
  {
   "cell_type": "markdown",
   "id": "5e8c7a4a",
   "metadata": {},
   "source": [
    "## 2- Preparo dos Dados"
   ]
  },
  {
   "cell_type": "markdown",
   "id": "6300e651",
   "metadata": {},
   "source": [
    "#### Filtrando os dados"
   ]
  },
  {
   "cell_type": "markdown",
   "id": "eb2ee60a",
   "metadata": {},
   "source": [
    "O arquivo principal baixado e descompactado possui Gibytes de tamanho e dificilmente pode ser aberto de uma só vez em um computador pessoal.\n",
    "\n",
    "A seguir esse arquivo será aberto em pedaços, e destes pedaços serão filtradas as linhas referentes aos NCMs de fertilizantes listados pelo autor.  \n",
    "\n",
    "Ao fim, esses filtrados em pedaços serão concatenados para formar o **arquivo principal** a ser salvo como ' ~/comex/data/imp1.csv'."
   ]
  },
  {
   "cell_type": "code",
   "execution_count": 1,
   "id": "64e4fa09",
   "metadata": {},
   "outputs": [],
   "source": [
    "#importa pacote necessário\n",
    "import pandas as pd\n",
    "\n",
    "# apresenta a listas de NCM manualmente selecionados pelo autor\n",
    "lista_ncm =[31010000, 31021010, 31021090, 31022100, 31022910, \n",
    "            31022990, 31023000, 31024000, 31025011, 31025019,\n",
    "            31025090, 31026000, 31028000, 31029000, 31031010,\n",
    "            31031030, 31031100, 31031900, 31039011, 31039090,\n",
    "            31042010, 31042090, 31043010, 31043090, 31049010,\n",
    "            31049090, 31051000, 31052000, 31053000, 31053010,\n",
    "            31053090, 31054000, 31055100, 31055900, 31056000,\n",
    "            31059011, 31059019, 31059090]\n",
    "\n",
    "# define o arquivo principal\n",
    "csv_file='~/comex/data/IMP_COMPLETA.csv'\n",
    "\n",
    "# Cria leitor do arquivo principal em pedaços\n",
    "csv_reader=pd.read_csv(csv_file, sep=';', chunksize=1000000)\n",
    "\n",
    "# Prepara tabela para receber e concatenar os filtrados dos pedaços\n",
    "q=pd.DataFrame()\n",
    "\n",
    "# Lê, filtra e concatena cada pedaço\n",
    "for chunk in csv_reader:\n",
    "    q=pd.concat([q, chunk[chunk.CO_NCM.isin(lista_ncm)]])\n",
    "\n",
    "# Ordena os dados\n",
    "imp1=q.sort_values(by=q.columns.to_list()).reset_index(drop=True)\n",
    "\n",
    "# Salva o resultado\n",
    "imp1.to_csv('~/comex/data/imp1.csv', index=False)"
   ]
  },
  {
   "cell_type": "code",
   "execution_count": 3,
   "id": "e10f02fd",
   "metadata": {},
   "outputs": [
    {
     "name": "stdout",
     "output_type": "stream",
     "text": [
      "<class 'pandas.core.frame.DataFrame'>\n",
      "RangeIndex: 98811 entries, 0 to 98810\n",
      "Data columns (total 13 columns):\n",
      " #   Column      Non-Null Count  Dtype \n",
      "---  ------      --------------  ----- \n",
      " 0   CO_ANO      98811 non-null  int64 \n",
      " 1   CO_MES      98811 non-null  int64 \n",
      " 2   CO_NCM      98811 non-null  int64 \n",
      " 3   CO_UNID     98811 non-null  int64 \n",
      " 4   CO_PAIS     98811 non-null  int64 \n",
      " 5   SG_UF_NCM   98811 non-null  object\n",
      " 6   CO_VIA      98811 non-null  int64 \n",
      " 7   CO_URF      98811 non-null  int64 \n",
      " 8   QT_ESTAT    98811 non-null  int64 \n",
      " 9   KG_LIQUIDO  98811 non-null  int64 \n",
      " 10  VL_FOB      98811 non-null  int64 \n",
      " 11  VL_FRETE    98811 non-null  int64 \n",
      " 12  VL_SEGURO   98811 non-null  int64 \n",
      "dtypes: int64(12), object(1)\n",
      "memory usage: 9.8+ MB\n"
     ]
    }
   ],
   "source": [
    "imp1.info()"
   ]
  }
 ],
 "metadata": {
  "celltoolbar": "Raw Cell Format",
  "kernelspec": {
   "display_name": "Python 3 (ipykernel)",
   "language": "python",
   "name": "python3"
  },
  "language_info": {
   "codemirror_mode": {
    "name": "ipython",
    "version": 3
   },
   "file_extension": ".py",
   "mimetype": "text/x-python",
   "name": "python",
   "nbconvert_exporter": "python",
   "pygments_lexer": "ipython3",
   "version": "3.10.9"
  }
 },
 "nbformat": 4,
 "nbformat_minor": 5
}
