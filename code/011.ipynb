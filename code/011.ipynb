{
 "cells": [
  {
   "cell_type": "markdown",
   "id": "85024c00",
   "metadata": {},
   "source": [
    "# Teste de Classificação"
   ]
  },
  {
   "cell_type": "code",
   "execution_count": null,
   "id": "a27f3a55",
   "metadata": {},
   "outputs": [],
   "source": [
    "# Fit GSC\n",
    "rfc.fit(X_classif_train_test_dumm,y_classif_train_test.oc)\n",
    "# Prediz\n",
    "pred_classif=X_classif_test.assign(oc_pred=rfc.predict(X_classif_test_dumm))\n",
    "\n",
    "# Concatena test e pred para medições\n",
    "tpc=test_pred_classif=pd.concat([pred_classif,y_classif_test],axis=1)"
   ]
  },
  {
   "cell_type": "code",
   "execution_count": null,
   "id": "acf82daf",
   "metadata": {},
   "outputs": [],
   "source": [
    "metrics_classif=pd.DataFrame()\n",
    "metrics_regress=pd.DataFrame()\n",
    "\n",
    "for ncm in tpc.NCM.unique():\n",
    "    for mes in tpc.MES.unique():\n",
    "        tpc_t=tpc[(tpc.NCM==ncm)&(tpc.MES==mes)]\n",
    "        if len(tpc_t)>0:\n",
    "            r=metrics.recall_score(tpc_t.oc,tpc_t.oc_pred)\n",
    "            p=metrics.precision_score(tpc_t.oc,tpc_t.oc_pred)\n",
    "            metrics_classif=pd.concat([\n",
    "                metrics_classif,\n",
    "                pd.DataFrame({'NCM':[ncm],'MES':[mes],'recall':[r],'precision':[p],'grupo_mes':[g]})])\n",
    "\n",
    "\n",
    "metrics_classif"
   ]
  }
 ],
 "metadata": {
  "kernelspec": {
   "display_name": "Python 3 (ipykernel)",
   "language": "python",
   "name": "python3"
  },
  "language_info": {
   "codemirror_mode": {
    "name": "ipython",
    "version": 3
   },
   "file_extension": ".py",
   "mimetype": "text/x-python",
   "name": "python",
   "nbconvert_exporter": "python",
   "pygments_lexer": "ipython3",
   "version": "3.10.9"
  }
 },
 "nbformat": 4,
 "nbformat_minor": 5
}
