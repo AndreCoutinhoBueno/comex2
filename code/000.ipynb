{
 "cells": [
  {
   "cell_type": "markdown",
   "id": "7305080e",
   "metadata": {},
   "source": [
    "### <p style=\"text-align:center\"> Análise Preditiva das Importações de Fertilizantes através dos Portos de Salvador e de Aratu-Candeias no Estado da Bahia</p>"
   ]
  },
  {
   "cell_type": "markdown",
   "id": "d32091ea",
   "metadata": {},
   "source": []
  },
  {
   "cell_type": "markdown",
   "id": "91a9aaba",
   "metadata": {},
   "source": []
  },
  {
   "cell_type": "markdown",
   "id": "5da04d45",
   "metadata": {},
   "source": []
  },
  {
   "cell_type": "markdown",
   "id": "85e097df",
   "metadata": {},
   "source": []
  },
  {
   "cell_type": "markdown",
   "id": "039c930e",
   "metadata": {},
   "source": []
  },
  {
   "cell_type": "markdown",
   "id": "28c1dcf2",
   "metadata": {},
   "source": []
  },
  {
   "cell_type": "markdown",
   "id": "6c19a343",
   "metadata": {},
   "source": []
  },
  {
   "cell_type": "markdown",
   "id": "71b91082",
   "metadata": {},
   "source": [
    "# ANEXO I"
   ]
  },
  {
   "cell_type": "markdown",
   "id": "1ff1c903",
   "metadata": {},
   "source": []
  },
  {
   "cell_type": "markdown",
   "id": "dfdcb920",
   "metadata": {},
   "source": []
  },
  {
   "cell_type": "markdown",
   "id": "cf7c1c9d",
   "metadata": {},
   "source": []
  },
  {
   "cell_type": "markdown",
   "id": "47d515f5",
   "metadata": {},
   "source": []
  },
  {
   "cell_type": "markdown",
   "id": "0d798fc4",
   "metadata": {},
   "source": []
  },
  {
   "cell_type": "markdown",
   "id": "688229e6",
   "metadata": {},
   "source": []
  },
  {
   "cell_type": "markdown",
   "id": "53f3528f",
   "metadata": {},
   "source": []
  },
  {
   "cell_type": "markdown",
   "id": "e3637d5a",
   "metadata": {},
   "source": []
  },
  {
   "cell_type": "markdown",
   "id": "70520b68",
   "metadata": {},
   "source": []
  },
  {
   "cell_type": "markdown",
   "id": "ea7fc2ab",
   "metadata": {},
   "source": []
  },
  {
   "cell_type": "markdown",
   "id": "2384692e",
   "metadata": {},
   "source": []
  },
  {
   "cell_type": "markdown",
   "id": "2507262c",
   "metadata": {},
   "source": []
  },
  {
   "cell_type": "markdown",
   "id": "4e31a8e3",
   "metadata": {},
   "source": []
  },
  {
   "cell_type": "markdown",
   "id": "b19feab4",
   "metadata": {},
   "source": []
  },
  {
   "cell_type": "markdown",
   "id": "4b70c0fe",
   "metadata": {},
   "source": [
    "### _Por André Coutinho Bueno_ \n",
    "* Engenheiro Agrônomo pela Universidade Federal de Viçosa / MG\n",
    "* Cientista de Dados associado a Datacamp\n",
    "* _Expert_ nos mercados de fertilizantes e combustíveis\n",
    "* contato: +55(21)99630-1267\n",
    "* Rio de Janeiro - Brasil"
   ]
  }
 ],
 "metadata": {
  "celltoolbar": "Raw Cell Format",
  "kernelspec": {
   "display_name": "Python 3 (ipykernel)",
   "language": "python",
   "name": "python3"
  },
  "language_info": {
   "codemirror_mode": {
    "name": "ipython",
    "version": 3
   },
   "file_extension": ".py",
   "mimetype": "text/x-python",
   "name": "python",
   "nbconvert_exporter": "python",
   "pygments_lexer": "ipython3",
   "version": "3.10.9"
  }
 },
 "nbformat": 4,
 "nbformat_minor": 5
}
