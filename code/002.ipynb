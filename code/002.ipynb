{
 "cells": [
  {
   "cell_type": "markdown",
   "id": "1d36c9a6",
   "metadata": {},
   "source": [
    "### <p style=\"text-align:center\"> Análise Preditiva das Importações de Fertilizantes através dos Portos de Salvador e de Aratu-Candeias no Estado da Bahia</p>"
   ]
  },
  {
   "cell_type": "markdown",
   "id": "5fb8e0b0",
   "metadata": {},
   "source": []
  },
  {
   "cell_type": "markdown",
   "id": "48745d85",
   "metadata": {},
   "source": []
  },
  {
   "cell_type": "markdown",
   "id": "8ae8bf18",
   "metadata": {},
   "source": []
  },
  {
   "cell_type": "markdown",
   "id": "4fe2d26d",
   "metadata": {},
   "source": [
    "### Índice\n",
    "\n",
    "1. Licensas e pacotes utilizados\n",
    "\n",
    "2. Preparo dos dados\n",
    "    * Salvando localmente\n",
    "    * Filtrando5\n",
    "    * Validando características\n",
    "    * Validando quantidades\n",
    "    * Conferindo a normalidade e subagrupando8\n",
    "\n",
    "6. [Engenharia de características](https://pt.wikipedia.org/wiki/Engenharia_de_caracter%C3%ADsticas)  \n",
    "    * Agregando múlpitlos fatores e agrupando mêses\n",
    "    * Identificando as Variáveis\n",
    "    \n",
    "\n",
    "7. Teste do modelo preditivo\n",
    "    * 1a. etapa: Classificatória\n",
    "    * 2a. etapa: Quantitativa\n",
    "\n",
    "8. Predição"
   ]
  },
  {
   "cell_type": "code",
   "execution_count": null,
   "id": "8b74e81f",
   "metadata": {},
   "outputs": [],
   "source": [
    "\n"
   ]
  }
 ],
 "metadata": {
  "celltoolbar": "Raw Cell Format",
  "kernelspec": {
   "display_name": "Python 3 (ipykernel)",
   "language": "python",
   "name": "python3"
  },
  "language_info": {
   "codemirror_mode": {
    "name": "ipython",
    "version": 3
   },
   "file_extension": ".py",
   "mimetype": "text/x-python",
   "name": "python",
   "nbconvert_exporter": "python",
   "pygments_lexer": "ipython3",
   "version": "3.10.9"
  }
 },
 "nbformat": 4,
 "nbformat_minor": 5
}
