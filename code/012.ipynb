{
 "cells": [
  {
   "cell_type": "markdown",
   "id": "65768176",
   "metadata": {},
   "source": [
    "#  Teste de Regressão"
   ]
  },
  {
   "cell_type": "code",
   "execution_count": null,
   "id": "65299dcf",
   "metadata": {},
   "outputs": [],
   "source": [
    "# Fit GSC\n",
    "rfr.fit(X_regress_train_test_dumm,y_regress_train_test)\n",
    "\n",
    "# Prediz\n",
    "pred_regress=X_regress_test.assign(KG_pred=rfr.predict(X_regress_test_dumm))\n",
    "\n",
    "# Concatena test e pred para medições\n",
    "tpr=test_pred_regress=pd.concat([pred_regress,y_regress_test], axis=1)"
   ]
  },
  {
   "cell_type": "code",
   "execution_count": null,
   "id": "4dfaedd6",
   "metadata": {},
   "outputs": [],
   "source": [
    "for ncm in tpr.NCM.unique():\n",
    "    for mes in tpr.MES.unique():        \n",
    "        tpr_t=tpr[(tpr.NCM==ncm)&(tpr.MES==mes)]\n",
    "        if len(tpr_t)>0:\n",
    "            r2=round(metrics.r2_score(tpr_t.KG,tpr_t.KG_pred),1)\n",
    "            \n",
    "            metrics_regress=pd.concat([\n",
    "                metrics_regress,\n",
    "                pd.DataFrame({'NCM':[ncm],'MES':[mes],'r2':[r2],'grupo_mes':[g]})])\n",
    "\n",
    "\n",
    "#metrics_regress.loc[metrics_regress.r2<0,'r2']=0\n",
    "metrics_regress=metrics_regress[metrics_regress.r2>=0]"
   ]
  },
  {
   "cell_type": "code",
   "execution_count": null,
   "id": "a1823c65",
   "metadata": {},
   "outputs": [],
   "source": []
  }
 ],
 "metadata": {
  "kernelspec": {
   "display_name": "Python 3 (ipykernel)",
   "language": "python",
   "name": "python3"
  },
  "language_info": {
   "codemirror_mode": {
    "name": "ipython",
    "version": 3
   },
   "file_extension": ".py",
   "mimetype": "text/x-python",
   "name": "python",
   "nbconvert_exporter": "python",
   "pygments_lexer": "ipython3",
   "version": "3.10.9"
  }
 },
 "nbformat": 4,
 "nbformat_minor": 5
}
