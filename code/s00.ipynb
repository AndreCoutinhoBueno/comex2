{
 "cells": [
  {
   "cell_type": "markdown",
   "id": "43c4708e",
   "metadata": {},
   "source": [
    "_Novembro de 2023_"
   ]
  },
  {
   "cell_type": "markdown",
   "id": "1a59c0dd",
   "metadata": {},
   "source": []
  },
  {
   "cell_type": "markdown",
   "id": "bfe344df",
   "metadata": {},
   "source": []
  },
  {
   "cell_type": "markdown",
   "id": "9bab9b69",
   "metadata": {},
   "source": []
  },
  {
   "cell_type": "markdown",
   "id": "6cea9edb",
   "metadata": {},
   "source": []
  },
  {
   "cell_type": "markdown",
   "id": "09fb5bbe",
   "metadata": {},
   "source": []
  },
  {
   "cell_type": "markdown",
   "id": "5d3e2b94",
   "metadata": {},
   "source": []
  },
  {
   "cell_type": "markdown",
   "id": "f9445497",
   "metadata": {},
   "source": []
  },
  {
   "cell_type": "markdown",
   "id": "63089284",
   "metadata": {},
   "source": []
  },
  {
   "cell_type": "markdown",
   "id": "e58e3ec2",
   "metadata": {},
   "source": [
    "# <p style=\"text-align:center\"> Análise Preditiva das Importações de Fertilizantes através dos Portos de Salvador e de Aratu-Candeias no Estado da Bahia</p>"
   ]
  },
  {
   "cell_type": "markdown",
   "id": "1b075649",
   "metadata": {},
   "source": []
  },
  {
   "cell_type": "markdown",
   "id": "dfaa40c8",
   "metadata": {},
   "source": []
  },
  {
   "cell_type": "markdown",
   "id": "a1840d25",
   "metadata": {},
   "source": []
  },
  {
   "cell_type": "markdown",
   "id": "d904ca68",
   "metadata": {},
   "source": []
  },
  {
   "cell_type": "markdown",
   "id": "9513f7ac",
   "metadata": {},
   "source": []
  },
  {
   "cell_type": "markdown",
   "id": "d4ece275",
   "metadata": {},
   "source": []
  },
  {
   "cell_type": "markdown",
   "id": "05a2dff8",
   "metadata": {},
   "source": []
  },
  {
   "cell_type": "markdown",
   "id": "8cf966f9",
   "metadata": {},
   "source": []
  },
  {
   "cell_type": "markdown",
   "id": "da2a7f32",
   "metadata": {},
   "source": []
  },
  {
   "cell_type": "markdown",
   "id": "6abae78c",
   "metadata": {},
   "source": []
  },
  {
   "cell_type": "markdown",
   "id": "27eb6cae",
   "metadata": {},
   "source": []
  },
  {
   "cell_type": "markdown",
   "id": "338175e0",
   "metadata": {},
   "source": []
  },
  {
   "cell_type": "markdown",
   "id": "6f9fc9d7",
   "metadata": {},
   "source": []
  },
  {
   "cell_type": "markdown",
   "id": "db4e46c2",
   "metadata": {},
   "source": []
  },
  {
   "cell_type": "markdown",
   "id": "a5c770fc",
   "metadata": {},
   "source": []
  },
  {
   "cell_type": "markdown",
   "id": "466995db",
   "metadata": {},
   "source": []
  },
  {
   "cell_type": "markdown",
   "id": "4fe2d26d",
   "metadata": {},
   "source": [
    "### _Por André Coutinho Bueno_ \n",
    "* Engenheiro Agrônomo pela Universidade Federal de Viçosa / MG\n",
    "* Cientista de Dados associado a Datacamp\n",
    "* _Expert_ nos mercados de fertilizantes e combustíveis\n",
    "* contato: +55(21)99630-1267\n",
    "* Rio de Janeiro - Brasil"
   ]
  }
 ],
 "metadata": {
  "kernelspec": {
   "display_name": "Python 3 (ipykernel)",
   "language": "python",
   "name": "python3"
  },
  "language_info": {
   "codemirror_mode": {
    "name": "ipython",
    "version": 3
   },
   "file_extension": ".py",
   "mimetype": "text/x-python",
   "name": "python",
   "nbconvert_exporter": "python",
   "pygments_lexer": "ipython3",
   "version": "3.10.9"
  }
 },
 "nbformat": 4,
 "nbformat_minor": 5
}
