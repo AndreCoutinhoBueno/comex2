{
 "cells": [
  {
   "cell_type": "markdown",
   "id": "30229d0f",
   "metadata": {},
   "source": [
    "### <p style=\"text-align:center\"> Análise Preditiva das Importações de Fertilizantes através dos Portos de Salvador e de Aratu-Candeias no Estado da Bahia</p>"
   ]
  },
  {
   "cell_type": "markdown",
   "id": "0e6e235e",
   "metadata": {},
   "source": []
  },
  {
   "cell_type": "markdown",
   "id": "1c1fabbb",
   "metadata": {},
   "source": []
  },
  {
   "cell_type": "markdown",
   "id": "d79e2ada",
   "metadata": {},
   "source": []
  },
  {
   "cell_type": "markdown",
   "id": "5313f97a",
   "metadata": {},
   "source": [
    "###  Introdução\n",
    "\n",
    "\n",
    "\n",
    "Com relevância internacional, o mercado de fertilizantes do Brasil é altamente mecanizado. Seja na produção, transporte ou aplicação no solo. Através das décadas essas máquinas vem se tornado cada vez mais rápidas e precisas.  Adotar essas novas máquinas esta ligada a sobrevivência das empresas frente a cometição do mercado.\n",
    "\n",
    "Na questões administrativas do setor de fertilizantes o mesmo vem ocorrendo. Das tecnologia de informação baseada em planilhas eletrônicas na década de 90 até os dias de hoje, onde a maior precisão e rapidez se obtêm atrtavés da aplicalçao de tecnologia de informação por vezes denominada **inteligência artificial**."
   ]
  },
  {
   "cell_type": "markdown",
   "id": "4305b0a3",
   "metadata": {},
   "source": []
  },
  {
   "cell_type": "markdown",
   "id": "a74b1692",
   "metadata": {},
   "source": []
  },
  {
   "cell_type": "markdown",
   "id": "aae0a375",
   "metadata": {},
   "source": []
  },
  {
   "cell_type": "markdown",
   "id": "f067063f",
   "metadata": {},
   "source": [
    "### Sobre o autor\n",
    "\n",
    "Experiente nos setores de fertilizantes e combustíveis, tanto em funções de engenharia como de tecnologia de informação, o autor vê nesse momento a oportunidade de levar a esses setores seus conhecimentos atualizados e expandidos após os últimos anos focados em estudos e certificações na área de ciência de dados."
   ]
  }
 ],
 "metadata": {
  "kernelspec": {
   "display_name": "Python 3 (ipykernel)",
   "language": "python",
   "name": "python3"
  },
  "language_info": {
   "codemirror_mode": {
    "name": "ipython",
    "version": 3
   },
   "file_extension": ".py",
   "mimetype": "text/x-python",
   "name": "python",
   "nbconvert_exporter": "python",
   "pygments_lexer": "ipython3",
   "version": "3.10.9"
  }
 },
 "nbformat": 4,
 "nbformat_minor": 5
}
