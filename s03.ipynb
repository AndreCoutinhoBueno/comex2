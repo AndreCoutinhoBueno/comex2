{
 "cells": [
  {
   "cell_type": "markdown",
   "id": "71b4cac6",
   "metadata": {
    "slideshow": {
     "slide_type": "fragment"
    }
   },
   "source": [
    "### <p style=\"text-align:center\"> Análise Preditiva das Importações de Fertilizantes através dos Portos de Salvador e de Aratu-Candeias no Estado da Bahia</p>"
   ]
  },
  {
   "cell_type": "code",
   "execution_count": 2,
   "id": "83d15459",
   "metadata": {
    "slideshow": {
     "slide_type": "slide"
    }
   },
   "outputs": [],
   "source": [
    "%run '~/comex/code/Previsão de Importação.ipynb'"
   ]
  },
  {
   "cell_type": "code",
   "execution_count": 4,
   "id": "4570fb94",
   "metadata": {
    "slideshow": {
     "slide_type": "subslide"
    }
   },
   "outputs": [
    {
     "name": "stdout",
     "output_type": "stream",
     "text": [
      "\n",
      "\n",
      "\n",
      "Previsão de Importação: 11/2023.\n"
     ]
    },
    {
     "data": {
      "text/html": [
       "<div>\n",
       "<style scoped>\n",
       "    .dataframe tbody tr th:only-of-type {\n",
       "        vertical-align: middle;\n",
       "    }\n",
       "\n",
       "    .dataframe tbody tr th {\n",
       "        vertical-align: top;\n",
       "    }\n",
       "\n",
       "    .dataframe thead th {\n",
       "        text-align: right;\n",
       "    }\n",
       "</style>\n",
       "<table border=\"1\" class=\"dataframe\">\n",
       "  <thead>\n",
       "    <tr style=\"text-align: right;\">\n",
       "      <th></th>\n",
       "      <th>NCM</th>\n",
       "      <th>oc</th>\n",
       "      <th>conf_oc</th>\n",
       "      <th>KT</th>\n",
       "      <th>conf_KT</th>\n",
       "    </tr>\n",
       "  </thead>\n",
       "  <tbody>\n",
       "    <tr>\n",
       "      <th>0</th>\n",
       "      <td>31021010-0</td>\n",
       "      <td>1</td>\n",
       "      <td>1.0</td>\n",
       "      <td>29</td>\n",
       "      <td>0.0</td>\n",
       "    </tr>\n",
       "    <tr>\n",
       "      <th>1</th>\n",
       "      <td>31022100-0</td>\n",
       "      <td>1</td>\n",
       "      <td>0.8</td>\n",
       "      <td>65</td>\n",
       "      <td>0.2</td>\n",
       "    </tr>\n",
       "    <tr>\n",
       "      <th>2</th>\n",
       "      <td>31042090-0</td>\n",
       "      <td>1</td>\n",
       "      <td>1.0</td>\n",
       "      <td>67</td>\n",
       "      <td>0.3</td>\n",
       "    </tr>\n",
       "    <tr>\n",
       "      <th>3</th>\n",
       "      <td>31054000-0</td>\n",
       "      <td>1</td>\n",
       "      <td>1.0</td>\n",
       "      <td>21</td>\n",
       "      <td>0.1</td>\n",
       "    </tr>\n",
       "    <tr>\n",
       "      <th>4</th>\n",
       "      <td>31055900-2</td>\n",
       "      <td>1</td>\n",
       "      <td>1.0</td>\n",
       "      <td>19</td>\n",
       "      <td>0.2</td>\n",
       "    </tr>\n",
       "    <tr>\n",
       "      <th>5</th>\n",
       "      <td>31059090-1</td>\n",
       "      <td>1</td>\n",
       "      <td>0.6</td>\n",
       "      <td>11</td>\n",
       "      <td>0.0</td>\n",
       "    </tr>\n",
       "  </tbody>\n",
       "</table>\n",
       "</div>"
      ],
      "text/plain": [
       "          NCM  oc  conf_oc  KT  conf_KT\n",
       "0  31021010-0   1      1.0  29      0.0\n",
       "1  31022100-0   1      0.8  65      0.2\n",
       "2  31042090-0   1      1.0  67      0.3\n",
       "3  31054000-0   1      1.0  21      0.1\n",
       "4  31055900-2   1      1.0  19      0.2\n",
       "5  31059090-1   1      0.6  11      0.0"
      ]
     },
     "metadata": {},
     "output_type": "display_data"
    },
    {
     "name": "stdout",
     "output_type": "stream",
     "text": [
      "\n"
     ]
    }
   ],
   "source": [
    "print(f\"\\n\\n\\nPrevisão de Importação: {d_import}.\")\n",
    "display(result_mes)\n",
    "print()"
   ]
  },
  {
   "cell_type": "markdown",
   "id": "150e78d0",
   "metadata": {},
   "source": [
    "* oc: prevê se a importação vai ou não ocorrer\n",
    "* conf_oc: indica o grau de confiança da previsão de ocorrência\n",
    "* KT: Prevê quantas mil toneladas somará o período **se** a previsão ocorrer\n",
    "* conf_KT: indica o grau de confiança da previsão de quantidade em KT"
   ]
  },
  {
   "cell_type": "markdown",
   "id": "ad89e0f2",
   "metadata": {},
   "source": []
  },
  {
   "cell_type": "markdown",
   "id": "c7041f47",
   "metadata": {},
   "source": [
    "> ##### Objetivo da Previsão: Apoiar a precificação do estoque\n",
    ">\n",
    "> As previsões são projeções das médias e podem ser consideradas o valor **normal** de ocorrência.\n",
    ">\n",
    "> Ao comparar as importações ocorridas com as importações previstas, se pode concluir que:\n",
    ">* se o montante importado é maior do que o montante previsto, compõe-se vetor de baixa do preço de venda do estoque.\n",
    ">* e vice-versa.\n",
    ">\n",
    "> Essa e outras forças, como a produção local de fertilizantes, ou como o volume de entregas de fertilizantes ao consumidor, devem ser confrontadas entre si no momento da precificação."
   ]
  }
 ],
 "metadata": {
  "kernelspec": {
   "display_name": "Python 3 (ipykernel)",
   "language": "python",
   "name": "python3"
  },
  "language_info": {
   "codemirror_mode": {
    "name": "ipython",
    "version": 3
   },
   "file_extension": ".py",
   "mimetype": "text/x-python",
   "name": "python",
   "nbconvert_exporter": "python",
   "pygments_lexer": "ipython3",
   "version": "3.10.9"
  }
 },
 "nbformat": 4,
 "nbformat_minor": 5
}
