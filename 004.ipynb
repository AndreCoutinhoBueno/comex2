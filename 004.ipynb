{
 "cells": [
  {
   "cell_type": "markdown",
   "id": "705b03c3",
   "metadata": {},
   "source": [
    "## 2- Preparo dos Dados"
   ]
  },
  {
   "cell_type": "markdown",
   "id": "f010f3d1",
   "metadata": {},
   "source": [
    "#### Salvando localmente  "
   ]
  },
  {
   "cell_type": "markdown",
   "id": "9c728067",
   "metadata": {},
   "source": [
    "O arquivo principal é atualizado mensalmente e deve ser carregado no endereço:\n",
    "\n",
    "* \"https://balanca.economia.gov.br/balanca/bd/comexstat-bd/ncm/IMP_COMPLETA.zip\". \n",
    "\n",
    "Em seguida o arquivo principal deve ser descompactado e salvo localmente em:\n",
    "\n",
    "* '~/comex/data/IMP_COMPLETA.csv'.\n",
    "\n",
    "\n",
    "\n",
    "Tabelas auxiliares com metadados devem ser baixadas em:\n",
    "\n",
    "* \"https://balanca.economia.gov.br/balanca/bd/tabelas/NCM.csv\"\n",
    "\n",
    "* \"https://balanca.economia.gov.br/balanca/bd/tabelas/PAIS.csv\"\n",
    "\n",
    "* \"https://balanca.economia.gov.br/balanca/bd/tabelas/UF.csv\"\n",
    "\n",
    "* \"https://balanca.economia.gov.br/balanca/bd/tabelas/URF.csv\"\n",
    "\n",
    "* \"https://balanca.economia.gov.br/balanca/bd/tabelas/VIA.csv\"  \n",
    "\n",
    "   Essas mesmas devem ser salvas localmente em:\n",
    "* '~/comex/metadata/' estão em:"
   ]
  }
 ],
 "metadata": {
  "celltoolbar": "Raw Cell Format",
  "kernelspec": {
   "display_name": "Python 3 (ipykernel)",
   "language": "python",
   "name": "python3"
  },
  "language_info": {
   "codemirror_mode": {
    "name": "ipython",
    "version": 3
   },
   "file_extension": ".py",
   "mimetype": "text/x-python",
   "name": "python",
   "nbconvert_exporter": "python",
   "pygments_lexer": "ipython3",
   "version": "3.10.9"
  }
 },
 "nbformat": 4,
 "nbformat_minor": 5
}
