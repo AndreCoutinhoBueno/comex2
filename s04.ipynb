{
 "cells": [
  {
   "cell_type": "markdown",
   "id": "71b4cac6",
   "metadata": {
    "slideshow": {
     "slide_type": "fragment"
    }
   },
   "source": [
    "### <p style=\"text-align:center\"> Análise Preditiva das Importações de Fertilizantes através dos Portos de Salvador e de Aratu-Candeias no Estado da Bahia</p>"
   ]
  },
  {
   "cell_type": "code",
   "execution_count": 1,
   "id": "5ba45e44",
   "metadata": {
    "slideshow": {
     "slide_type": "slide"
    }
   },
   "outputs": [],
   "source": [
    "%run '~/comex/code/Previsão de Importação.ipynb'"
   ]
  },
  {
   "cell_type": "markdown",
   "id": "973d49e0",
   "metadata": {},
   "source": [
    "#####  Informações Complementares"
   ]
  },
  {
   "cell_type": "code",
   "execution_count": 7,
   "id": "f489f19f",
   "metadata": {
    "slideshow": {
     "slide_type": "notes"
    }
   },
   "outputs": [
    {
     "name": "stdout",
     "output_type": "stream",
     "text": [
      "\n",
      "Previsão de importação para a o BIMESTRE iniciado em 11/2023.\n"
     ]
    },
    {
     "data": {
      "text/html": [
       "<div>\n",
       "<style scoped>\n",
       "    .dataframe tbody tr th:only-of-type {\n",
       "        vertical-align: middle;\n",
       "    }\n",
       "\n",
       "    .dataframe tbody tr th {\n",
       "        vertical-align: top;\n",
       "    }\n",
       "\n",
       "    .dataframe thead th {\n",
       "        text-align: right;\n",
       "    }\n",
       "</style>\n",
       "<table border=\"1\" class=\"dataframe\">\n",
       "  <thead>\n",
       "    <tr style=\"text-align: right;\">\n",
       "      <th></th>\n",
       "      <th>NCM</th>\n",
       "      <th>oc</th>\n",
       "      <th>conf_oc</th>\n",
       "      <th>KT</th>\n",
       "      <th>conf_KT</th>\n",
       "    </tr>\n",
       "  </thead>\n",
       "  <tbody>\n",
       "    <tr>\n",
       "      <th>6</th>\n",
       "      <td>31021010-0</td>\n",
       "      <td>1</td>\n",
       "      <td>1.0</td>\n",
       "      <td>36</td>\n",
       "      <td>0.0</td>\n",
       "    </tr>\n",
       "    <tr>\n",
       "      <th>7</th>\n",
       "      <td>31022100-0</td>\n",
       "      <td>1</td>\n",
       "      <td>1.0</td>\n",
       "      <td>30</td>\n",
       "      <td>0.1</td>\n",
       "    </tr>\n",
       "    <tr>\n",
       "      <th>8</th>\n",
       "      <td>31042090-0</td>\n",
       "      <td>1</td>\n",
       "      <td>1.0</td>\n",
       "      <td>34</td>\n",
       "      <td>0.5</td>\n",
       "    </tr>\n",
       "    <tr>\n",
       "      <th>9</th>\n",
       "      <td>31054000-0</td>\n",
       "      <td>1</td>\n",
       "      <td>1.0</td>\n",
       "      <td>25</td>\n",
       "      <td>0.4</td>\n",
       "    </tr>\n",
       "    <tr>\n",
       "      <th>10</th>\n",
       "      <td>31055900-2</td>\n",
       "      <td>1</td>\n",
       "      <td>1.0</td>\n",
       "      <td>25</td>\n",
       "      <td>0.3</td>\n",
       "    </tr>\n",
       "    <tr>\n",
       "      <th>11</th>\n",
       "      <td>31059090-1</td>\n",
       "      <td>1</td>\n",
       "      <td>1.0</td>\n",
       "      <td>19</td>\n",
       "      <td>0.0</td>\n",
       "    </tr>\n",
       "  </tbody>\n",
       "</table>\n",
       "</div>"
      ],
      "text/plain": [
       "           NCM  oc  conf_oc  KT  conf_KT\n",
       "6   31021010-0   1      1.0  36      0.0\n",
       "7   31022100-0   1      1.0  30      0.1\n",
       "8   31042090-0   1      1.0  34      0.5\n",
       "9   31054000-0   1      1.0  25      0.4\n",
       "10  31055900-2   1      1.0  25      0.3\n",
       "11  31059090-1   1      1.0  19      0.0"
      ]
     },
     "metadata": {},
     "output_type": "display_data"
    },
    {
     "name": "stdout",
     "output_type": "stream",
     "text": [
      "\n"
     ]
    }
   ],
   "source": [
    "print(f\"\\nPrevisão de importação para a o BIMESTRE iniciado em {d_import}.\")\n",
    "display(result_bim)\n",
    "print()"
   ]
  },
  {
   "cell_type": "code",
   "execution_count": 8,
   "id": "2545726d",
   "metadata": {},
   "outputs": [
    {
     "name": "stdout",
     "output_type": "stream",
     "text": [
      "\n",
      "Previsão das Importações no trimestre iniciado em 11/2023.\n"
     ]
    },
    {
     "data": {
      "text/html": [
       "<div>\n",
       "<style scoped>\n",
       "    .dataframe tbody tr th:only-of-type {\n",
       "        vertical-align: middle;\n",
       "    }\n",
       "\n",
       "    .dataframe tbody tr th {\n",
       "        vertical-align: top;\n",
       "    }\n",
       "\n",
       "    .dataframe thead th {\n",
       "        text-align: right;\n",
       "    }\n",
       "</style>\n",
       "<table border=\"1\" class=\"dataframe\">\n",
       "  <thead>\n",
       "    <tr style=\"text-align: right;\">\n",
       "      <th></th>\n",
       "      <th>NCM</th>\n",
       "      <th>oc</th>\n",
       "      <th>conf_oc</th>\n",
       "      <th>KT</th>\n",
       "      <th>conf_KT</th>\n",
       "    </tr>\n",
       "  </thead>\n",
       "  <tbody>\n",
       "    <tr>\n",
       "      <th>12</th>\n",
       "      <td>31021010-0</td>\n",
       "      <td>1</td>\n",
       "      <td>1.0</td>\n",
       "      <td>35</td>\n",
       "      <td>0.3</td>\n",
       "    </tr>\n",
       "    <tr>\n",
       "      <th>13</th>\n",
       "      <td>31022100-0</td>\n",
       "      <td>1</td>\n",
       "      <td>1.0</td>\n",
       "      <td>22</td>\n",
       "      <td>0.1</td>\n",
       "    </tr>\n",
       "    <tr>\n",
       "      <th>14</th>\n",
       "      <td>31042090-0</td>\n",
       "      <td>1</td>\n",
       "      <td>1.0</td>\n",
       "      <td>68</td>\n",
       "      <td>0.3</td>\n",
       "    </tr>\n",
       "    <tr>\n",
       "      <th>15</th>\n",
       "      <td>31054000-0</td>\n",
       "      <td>1</td>\n",
       "      <td>0.9</td>\n",
       "      <td>31</td>\n",
       "      <td>0.5</td>\n",
       "    </tr>\n",
       "    <tr>\n",
       "      <th>16</th>\n",
       "      <td>31055900-2</td>\n",
       "      <td>1</td>\n",
       "      <td>1.0</td>\n",
       "      <td>20</td>\n",
       "      <td>0.2</td>\n",
       "    </tr>\n",
       "    <tr>\n",
       "      <th>17</th>\n",
       "      <td>31059090-1</td>\n",
       "      <td>1</td>\n",
       "      <td>1.0</td>\n",
       "      <td>8</td>\n",
       "      <td>0.2</td>\n",
       "    </tr>\n",
       "  </tbody>\n",
       "</table>\n",
       "</div>"
      ],
      "text/plain": [
       "           NCM  oc  conf_oc  KT  conf_KT\n",
       "12  31021010-0   1      1.0  35      0.3\n",
       "13  31022100-0   1      1.0  22      0.1\n",
       "14  31042090-0   1      1.0  68      0.3\n",
       "15  31054000-0   1      0.9  31      0.5\n",
       "16  31055900-2   1      1.0  20      0.2\n",
       "17  31059090-1   1      1.0   8      0.2"
      ]
     },
     "metadata": {},
     "output_type": "display_data"
    },
    {
     "name": "stdout",
     "output_type": "stream",
     "text": [
      "\n"
     ]
    }
   ],
   "source": [
    "print(f\"\\nPrevisão das Importações no trimestre iniciado em {d_import}.\")\n",
    "display(result_trim)\n",
    "print()"
   ]
  },
  {
   "cell_type": "markdown",
   "id": "36e6294d",
   "metadata": {},
   "source": [
    "##### Próximos Passos: \n",
    "\n",
    "* Ampliar a análise preditiva especialmente sobre a demanda de fertilizantes. \n",
    "    * A base de dados para essa tarefa se encontra na [ANDA - Associação Nacional para Difusão de Adubos](https://anda.org.br/).\n",
    "* Regionalizar a previsão de demanda através de:\n",
    "    * Coleta de informação local através da força de vendas\n",
    "    * Dados de plantio por município disponibilisados pelo [IBGE - Instituto Brasileiro de Geografia e Estatística](https://www.ibge.gov.br/).\n",
    "\n",
    "* Confrontar os dados de oferta e demanda para ampliar o suporte à precificação\n"
   ]
  }
 ],
 "metadata": {
  "kernelspec": {
   "display_name": "Python 3 (ipykernel)",
   "language": "python",
   "name": "python3"
  },
  "language_info": {
   "codemirror_mode": {
    "name": "ipython",
    "version": 3
   },
   "file_extension": ".py",
   "mimetype": "text/x-python",
   "name": "python",
   "nbconvert_exporter": "python",
   "pygments_lexer": "ipython3",
   "version": "3.10.9"
  }
 },
 "nbformat": 4,
 "nbformat_minor": 5
}
