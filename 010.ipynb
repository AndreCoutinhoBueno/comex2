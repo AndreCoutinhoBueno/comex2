{
 "cells": [
  {
   "cell_type": "markdown",
   "id": "93a36dc6",
   "metadata": {},
   "source": [
    "## Engenharia de características"
   ]
  },
  {
   "cell_type": "markdown",
   "id": "eb16ea97",
   "metadata": {},
   "source": [
    "#### Identificando as Variáveis"
   ]
  },
  {
   "cell_type": "markdown",
   "id": "ca2afeeb",
   "metadata": {},
   "source": [
    "Aqui as váriáveis que serão processadas pelos algorítmos são produzidas e identificadas."
   ]
  },
  {
   "cell_type": "markdown",
   "id": "7e360e76",
   "metadata": {},
   "source": [
    "A codificação das colunas categóricas será executada."
   ]
  },
  {
   "cell_type": "code",
   "execution_count": null,
   "id": "b6e37a68",
   "metadata": {},
   "outputs": [],
   "source": [
    "import pandas as pd"
   ]
  },
  {
   "cell_type": "code",
   "execution_count": null,
   "id": "7a327964",
   "metadata": {
    "scrolled": false
   },
   "outputs": [],
   "source": [
    "# Identifica a primeira e a última data no histórico de importação, para serem utilizadas\n",
    "# na na eliminação do efeito colateral***\n",
    "pr_d=i_o[['ANO','MES']].head(1).astype(int)\n",
    "ut_d=i_o[['ANO','MES']].tail(1).astype(int)"
   ]
  },
  {
   "cell_type": "markdown",
   "id": "ccdbeca9",
   "metadata": {},
   "source": [
    "*** Efetito colateral é a criação de meses antes do início real e após o último mês, no primeiro e no ano corrente, respectivamente, após o processo de agrupamento que consideram ANO e MES como tipo 'category'."
   ]
  },
  {
   "cell_type": "code",
   "execution_count": null,
   "id": "a666bc94",
   "metadata": {},
   "outputs": [],
   "source": [
    "# Idenifica as colunas categoricas\n",
    "i[['ANO','MES','NCM']]=i[['ANO','MES','NCM']].astype('category')\n",
    "\n",
    "\n",
    "# procede o agrupamento categórico transformando i em matriz densa\n",
    "i=i.\\\n",
    "groupby(by=['ANO','MES','NCM'])\\\n",
    "[i.select_dtypes(include='float64').columns.tolist()]\\\n",
    ".sum().reset_index()\n"
   ]
  },
  {
   "cell_type": "code",
   "execution_count": null,
   "id": "9b296ce1",
   "metadata": {},
   "outputs": [],
   "source": [
    "i['date']=pd.to_datetime(i.ANO.astype(str)+'/'+i.MES.astype(str)+'/1').astype(int)"
   ]
  },
  {
   "cell_type": "code",
   "execution_count": null,
   "id": "1cdc8867",
   "metadata": {},
   "outputs": [],
   "source": [
    "# Elimina o efeito colateral***\n",
    "i=i.loc[(i.ANO.astype(int)>pr_d.ANO.values[0])|(i.MES.astype(int)>=pr_d.MES.values[0])]\n",
    "i=i.loc[(i.ANO.astype(int)<ut_d.ANO.values[0])|(i.MES.astype(int)<=ut_d.MES.values[0])]"
   ]
  },
  {
   "cell_type": "code",
   "execution_count": null,
   "id": "32d2fd0b",
   "metadata": {},
   "outputs": [],
   "source": [
    "# Cria-se a coluna que classifica se a importação ocorreu ou não \n",
    "# Inicialmente, todas importações são marcadas como zero (**nâo ocorridas**)\n",
    "i['oc']=0\n",
    "# Corrigi-se a coluna 'oc', passando a marcar '1' para as coluna que apresentam alguma quantidade importada\n",
    "i.loc[i.KG>0,'oc']=1"
   ]
  },
  {
   "cell_type": "code",
   "execution_count": null,
   "id": "12957999",
   "metadata": {},
   "outputs": [],
   "source": [
    "X_classif=i.drop(columns=['ANO','oc','KG'])\n",
    "y_classif=i[['oc']]\n",
    "\n",
    "X_regress=i[i.KG>0].drop(columns=['ANO','oc','KG'])\n",
    "y_regress=i[i.KG>0][['KG']]"
   ]
  },
  {
   "cell_type": "code",
   "execution_count": null,
   "id": "e4472309",
   "metadata": {},
   "outputs": [],
   "source": [
    "X_classif_train_test, X_classif_test, y_classif_train_test, y_classif_test=\\\n",
    "tts(X_classif,y_classif,train_size=.7)"
   ]
  },
  {
   "cell_type": "code",
   "execution_count": null,
   "id": "c96d3367",
   "metadata": {},
   "outputs": [],
   "source": [
    "X_regress_train_test, X_regress_test, y_regress_train_test, y_regress_test=\\\n",
    "tts(X_regress,y_regress,train_size=.7)"
   ]
  },
  {
   "cell_type": "code",
   "execution_count": null,
   "id": "21057b46",
   "metadata": {},
   "outputs": [],
   "source": [
    "# Ajuntando dados de treino e teste, assinalando um e outro para separação posterior\n",
    "X_classif_train_test_test_to_dumm=pd.concat([X_classif_train_test.assign(train=1),X_classif_test.assign(train=0)])\n",
    "\n",
    "# Codificando treino e teste de uma só ves\n",
    "X_classif_train_test_test_dumm=pd.get_dummies(X_classif_train_test_test_to_dumm)\n",
    "\n",
    "# Separando treino de teste com categorias codificadas\n",
    "X_classif_train_test_dumm=X_classif_train_test_test_dumm[X_classif_train_test_test_dumm.train==1]\\\n",
    ".drop(columns='train')\n",
    "X_classif_test_dumm=X_classif_train_test_test_dumm[X_classif_train_test_test_dumm.train==0]\\\n",
    ".drop(columns='train')"
   ]
  },
  {
   "cell_type": "code",
   "execution_count": null,
   "id": "726a2feb",
   "metadata": {},
   "outputs": [],
   "source": [
    "# Ajuntando dados de treino e teste, assinalando um e outro para separação posterior\n",
    "X_regress_train_test_test_to_dumm=pd.concat([X_regress_train_test.assign(train=1),X_regress_test.assign(train=0)])\n",
    "\n",
    "# Codificando treino e teste de uma só ves\n",
    "X_regress_train_test_test_dumm=pd.get_dummies(X_regress_train_test_test_to_dumm)\n",
    "\n",
    "# Separando treino de teste com categorias codificadas\n",
    "X_regress_train_test_dumm=X_regress_train_test_test_dumm[X_regress_train_test_test_dumm.train==1]\\\n",
    ".drop(columns='train')\n",
    "X_regress_test_dumm=X_regress_train_test_test_dumm[X_regress_train_test_test_dumm.train==0]\\\n",
    ".drop(columns='train')"
   ]
  },
  {
   "cell_type": "markdown",
   "id": "1b7d1652",
   "metadata": {},
   "source": [
    "##### 1.3- Variáveis para pred"
   ]
  },
  {
   "cell_type": "markdown",
   "id": "a6e29614",
   "metadata": {},
   "source": [
    "1.3.1- Identificando as variáveis de treino para previsão"
   ]
  },
  {
   "cell_type": "code",
   "execution_count": null,
   "id": "e6e16f3a",
   "metadata": {},
   "outputs": [],
   "source": [
    "X_classif_train_pred=X_classif.copy()\n",
    "y_classif_train_pred=y_classif.copy()"
   ]
  },
  {
   "cell_type": "code",
   "execution_count": null,
   "id": "e0e5feef",
   "metadata": {},
   "outputs": [],
   "source": [
    "X_regress_train_pred=X_regress.copy()\n",
    "y_regress_train_pred=y_regress.copy()"
   ]
  },
  {
   "cell_type": "markdown",
   "id": "7273d8e2",
   "metadata": {},
   "source": [
    "1.3.2- Identificando as variáveis para previsão"
   ]
  },
  {
   "cell_type": "code",
   "execution_count": null,
   "id": "dd0e655e",
   "metadata": {},
   "outputs": [],
   "source": [
    "# Identificando a data (d_pred) para previsão, que no caso, é um mês a mais do que o último\n",
    "# mês do histórico de importação\n",
    "d_pred_t=ut_d.copy()\n",
    "d_pred_t.MES=d_pred_t.MES+1\n",
    "\n",
    "d_pred=d_pred_t.copy()"
   ]
  },
  {
   "cell_type": "code",
   "execution_count": null,
   "id": "f83ef37a",
   "metadata": {},
   "outputs": [],
   "source": [
    "# Combinando as demais colunas, que neste caso é somente o NCM,com a data a ser prevista\n",
    "X_classif_pred=d_pred.assign(key=0)\\\n",
    ".merge(i[['NCM']]\\\n",
    "       .astype('category')\\\n",
    "       .drop_duplicates()\\\n",
    "       .assign(key=0))\\\n",
    ".drop(columns='key')\n",
    "\n",
    "# Cria date\n",
    "X_classif_pred=X_classif_pred.assign(\n",
    "    date=\n",
    "    pd.to_datetime(\n",
    "        X_classif_pred.ANO.astype(str)\n",
    "        +'/'+\n",
    "        X_classif_pred.MES.astype(str))\n",
    "    .astype(int))\n",
    "\n",
    "# Deleta ANO\n",
    "X_classif_pred=X_classif_pred.drop(columns='ANO')\n",
    "\n",
    "i_agg=pd.read_csv('~/comex/data/i_agg.csv')\n",
    "\n",
    "if agg==1:\n",
    "\n",
    "    # Prevê que o input\n",
    "    X_classif_pred['k1']=i_agg.k1.iloc[-1]\n",
    "    X_classif_pred['k2']=i_agg.k2.iloc[-1]\n",
    "    X_classif_pred['k3']=i_agg.k3.iloc[-1]\n",
    "    X_classif_pred['k4']=i_agg.k4.iloc[-1]\n",
    "    X_classif_pred['k5']=i_agg.k5.iloc[-1]\n",
    "    X_classif_pred['k6']=i_agg.k6.iloc[-1]\n",
    "\n",
    "    \n",
    "#display(X_classif_pred.sk)\n",
    "# Ajuntando dados de treino e pred, assinalando um e outro para separação posterior"
   ]
  },
  {
   "cell_type": "markdown",
   "id": "987568b2",
   "metadata": {},
   "source": [
    "Dumm"
   ]
  },
  {
   "cell_type": "code",
   "execution_count": null,
   "id": "e9203fb3",
   "metadata": {},
   "outputs": [],
   "source": [
    "X_classif_train_pred_pred_to_dumm=\\\n",
    "pd.concat([\n",
    "    X_classif_train_pred.assign(train=1),\n",
    "    X_classif_pred      .assign(train=0)\n",
    "])\n",
    "\n",
    "# Identificando as colunas categóricas para a seguir serem também codificadas, como na fase de test\n",
    "X_classif_train_pred_pred_to_dumm[['MES','NCM']]=X_classif_train_pred_pred_to_dumm[['MES','NCM']].astype('category')\n",
    "\n",
    "# Codificando treino e pred de uma só ves\n",
    "X_classif_train_pred_pred_dumm=pd.get_dummies(X_classif_train_pred_pred_to_dumm)\n",
    "\n",
    "# Separando treino de pred com categorias codificadas\n",
    "X_classif_train_pred_dumm=X_classif_train_pred_pred_dumm[X_classif_train_pred_pred_dumm.train==1]\\\n",
    ".drop(columns='train')\n",
    "\n",
    "X_classif_pred_dumm=X_classif_train_pred_pred_dumm[X_classif_train_pred_pred_dumm.train==0]\\\n",
    ".drop(columns='train')"
   ]
  },
  {
   "cell_type": "code",
   "execution_count": null,
   "id": "acb45589",
   "metadata": {},
   "outputs": [],
   "source": [
    "# Copiando todo X de classif para regress\n",
    "i_classif_train_pred_dumm=pd.concat([X_classif_train_pred_dumm,y_classif_train_pred],axis=1)\n",
    "\n",
    "i_regress_train_pred_dumm=i_classif_train_pred_dumm[i_classif_train_pred_dumm.oc==1]\n",
    "\n",
    "X_regress_train_pred_dumm=i_regress_train_pred_dumm.drop(columns='oc')"
   ]
  },
  {
   "cell_type": "code",
   "execution_count": null,
   "id": "4d9345cd",
   "metadata": {},
   "outputs": [],
   "source": [
    "# Copiando todo X de classif para regress\n",
    "X_regress_pred=X_classif_pred\n",
    "X_regress_pred_dumm=X_classif_pred_dumm"
   ]
  }
 ],
 "metadata": {
  "kernelspec": {
   "display_name": "Python 3 (ipykernel)",
   "language": "python",
   "name": "python3"
  },
  "language_info": {
   "codemirror_mode": {
    "name": "ipython",
    "version": 3
   },
   "file_extension": ".py",
   "mimetype": "text/x-python",
   "name": "python",
   "nbconvert_exporter": "python",
   "pygments_lexer": "ipython3",
   "version": "3.10.9"
  }
 },
 "nbformat": 4,
 "nbformat_minor": 5
}
